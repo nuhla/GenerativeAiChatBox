{
 "cells": [
  {
   "cell_type": "code",
   "execution_count": 9,
   "metadata": {},
   "outputs": [],
   "source": [
    "import os\n",
    "import json\n",
    "import pandas as pd \n",
    "import traceback"
   ]
  },
  {
   "cell_type": "code",
   "execution_count": 10,
   "metadata": {},
   "outputs": [],
   "source": [
    "from langchain.chat_models import ChatOpenAI\n",
    "\n",
    "from  dotenv import load_dotenv\n"
   ]
  },
  {
   "cell_type": "code",
   "execution_count": 12,
   "metadata": {},
   "outputs": [],
   "source": [
    "load_dotenv()\n",
    "llm = ChatOpenAI(openai_api_key=os.getenv('KEY'), model_name=\"gtp-3.5-turbo\", temperature =0.5)"
   ]
  },
  {
   "cell_type": "code",
   "execution_count": 14,
   "metadata": {},
   "outputs": [],
   "source": [
    "from langchain.llms import OpenAI\n",
    "from langchain.prompts import PromptTemplate\n",
    "from langchain.chains import LLMChain, SequentialChain\n",
    "from langchain.callbacks import get_openai_callback\n",
    "import PyPDF2\n"
   ]
  },
  {
   "cell_type": "code",
   "execution_count": 15,
   "metadata": {},
   "outputs": [],
   "source": [
    "RESPONSE_JSON ={\n",
    "    \"1\":{\n",
    "        \"mcq\":\"multiple choice question\",\n",
    "        \"option\":{\n",
    "            \"a\":\"choice here \",\n",
    "            \"b\":\"choice here \",\n",
    "            \"c\":\"choice here \",\n",
    "            \"d\":\"choice here \",\n",
    "                 },\n",
    "        \"correct\":\"correct answer\",\n",
    "            },\n",
    "    \"2\":{\n",
    "        \"mcq\":\"multiple choice question\",\n",
    "        \"option\":{\n",
    "            \"a\":\"choice here \",\n",
    "            \"b\":\"choice here \",\n",
    "            \"c\":\"choice here \",\n",
    "            \"d\":\"choice here \",\n",
    "                 },\n",
    "        \"correct\":\"correct answer\",\n",
    "            },\n",
    "    \"3\":{\n",
    "        \"mcq\":\"multiple choice question\",\n",
    "        \"option\":{\n",
    "            \"a\":\"choice here \",\n",
    "            \"b\":\"choice here \",\n",
    "            \"c\":\"choice here \",\n",
    "            \"d\":\"choice here \",\n",
    "                 },\n",
    "        \"correct\":\"correct answer\",\n",
    "            },\n",
    "    \"4\":{\n",
    "        \"mcq\":\"multiple choice question\",\n",
    "        \"option\":{\n",
    "            \"a\":\"choice here \",\n",
    "            \"b\":\"choice here \",\n",
    "            \"c\":\"choice here \",\n",
    "            \"d\":\"choice here \",\n",
    "                 },\n",
    "        \"correct\":\"correct answer\",\n",
    "            },\n",
    "\n",
    "}"
   ]
  },
  {
   "cell_type": "code",
   "execution_count": 16,
   "metadata": {},
   "outputs": [],
   "source": [
    "TEMPLATE=\"\"\"\n",
    "Text:{text}\n",
    "You are an expert MCQ maker. Given the above text, it is your jobe to \\\n",
    "create a quiz of {number} multiple choice questions for {subject} students in {tone} tone.\n",
    "Make sure the questions are not repeated and check all the questions to be conforming the text as well.\n",
    "Make sure to fornate your respones like RESPONSE_JSON below and use it a guide.\n",
    "Ensure to make {numbers } MCQs\n",
    "### RESPONSE_JSON\n",
    "{response_json}\n",
    "    \n",
    "\"\"\""
   ]
  },
  {
   "cell_type": "code",
   "execution_count": 19,
   "metadata": {},
   "outputs": [],
   "source": [
    "\n",
    "\n",
    "quiz_generation_prompt = PromptTemplate(\n",
    "    input_variables=[\"text\", \"numbers\", \"subject\", \"tone\", \"response_json\"],\n",
    "    template=TEMPLATE\n",
    ")"
   ]
  },
  {
   "cell_type": "code",
   "execution_count": 22,
   "metadata": {},
   "outputs": [],
   "source": [
    "quize_chain= LLMChain(llm=llm, prompt=quiz_generation_prompt, output_key=\"quiz\", verbose=True)"
   ]
  },
  {
   "cell_type": "code",
   "execution_count": 23,
   "metadata": {},
   "outputs": [],
   "source": [
    "TEMPLATE2 =\"\"\"\n",
    "    You are an expert english grammarian and writer. given a Multiple choice Quiz fro {subject} students.\\\n",
    "    You need to evaluate the complexity of the question and give a complete analysis of the quiz. Only use at max 50 words for complexity \n",
    "    if the quiz is not at per with the conngitive and analytical abilities of the students,\\\n",
    "    update the quiz questions which needs to be changes and change the tone such that it perfectly fits the students .\n",
    "    Quiz_MCQs:\n",
    "    {quiz}\n",
    "\n",
    "    Check from an export English writer of the above quize:\n",
    "\"\"\""
   ]
  },
  {
   "cell_type": "code",
   "execution_count": null,
   "metadata": {},
   "outputs": [],
   "source": []
  }
 ],
 "metadata": {
  "kernelspec": {
   "display_name": "classifVnv",
   "language": "python",
   "name": "python3"
  },
  "language_info": {
   "codemirror_mode": {
    "name": "ipython",
    "version": 3
   },
   "file_extension": ".py",
   "mimetype": "text/x-python",
   "name": "python",
   "nbconvert_exporter": "python",
   "pygments_lexer": "ipython3",
   "version": "3.8.10"
  }
 },
 "nbformat": 4,
 "nbformat_minor": 2
}
